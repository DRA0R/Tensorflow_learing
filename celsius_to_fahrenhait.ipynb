{
  "nbformat": 4,
  "nbformat_minor": 0,
  "metadata": {
    "colab": {
      "name": "celsius_to_fahrenhait.ipynb",
      "provenance": [],
      "authorship_tag": "ABX9TyOBc0kE3sNJnR1YjXWk4Oa5",
      "include_colab_link": true
    },
    "kernelspec": {
      "name": "python3",
      "display_name": "Python 3"
    },
    "language_info": {
      "name": "python"
    }
  },
  "cells": [
    {
      "cell_type": "markdown",
      "metadata": {
        "id": "view-in-github",
        "colab_type": "text"
      },
      "source": [
        "<a href=\"https://colab.research.google.com/github/DRA0R/Tensorflow_learing/blob/main/celsius_to_fahrenhait.ipynb\" target=\"_parent\"><img src=\"https://colab.research.google.com/assets/colab-badge.svg\" alt=\"Open In Colab\"/></a>"
      ]
    },
    {
      "cell_type": "code",
      "source": [
        "!pwd"
      ],
      "metadata": {
        "id": "5n5H9Kt0X7dX",
        "colab": {
          "base_uri": "https://localhost:8080/"
        },
        "outputId": "a49c4732-1c8e-4ab8-fb99-bebed890d92a"
      },
      "execution_count": 11,
      "outputs": [
        {
          "output_type": "stream",
          "name": "stdout",
          "text": [
            "/content\n"
          ]
        }
      ]
    },
    {
      "cell_type": "code",
      "source": [
        "import tensorflow as tf\n",
        "tf.compat.v1.logging.set_verbosity(tf.compat.v1.logging.ERROR)\n",
        "import numpy as np"
      ],
      "metadata": {
        "id": "-qFdBLglYN6I"
      },
      "execution_count": 16,
      "outputs": []
    },
    {
      "cell_type": "code",
      "source": [
        "celsius_q = np.array([-40, -10, 0, 8, 15, 22, 38], dtype=float)\n",
        "fahrenheit_a = np.array([-40, 14, 32, 46, 59, 72, 100], dtype=float)\n",
        "\n",
        "for i,c in enumerate(celsius_q):\n",
        "  print(\"{} degrees Celsius = {} degrees\".format(c, fahrenheit_a[i]))"
      ],
      "metadata": {
        "colab": {
          "base_uri": "https://localhost:8080/"
        },
        "id": "MAO9zK88c15E",
        "outputId": "bc6506a2-fabc-4712-905c-a96475aeed15"
      },
      "execution_count": 17,
      "outputs": [
        {
          "output_type": "stream",
          "name": "stdout",
          "text": [
            "-40.0 degrees Celsius = -40.0 degrees\n",
            "-10.0 degrees Celsius = 14.0 degrees\n",
            "0.0 degrees Celsius = 32.0 degrees\n",
            "8.0 degrees Celsius = 46.0 degrees\n",
            "15.0 degrees Celsius = 59.0 degrees\n",
            "22.0 degrees Celsius = 72.0 degrees\n",
            "38.0 degrees Celsius = 100.0 degrees\n"
          ]
        }
      ]
    },
    {
      "cell_type": "code",
      "source": [
        " l0 = tf.keras.layers.Dense(units=1, input_shape=[1])"
      ],
      "metadata": {
        "id": "02uhoGkwevlV"
      },
      "execution_count": 19,
      "outputs": []
    },
    {
      "cell_type": "code",
      "source": [
        "model = tf.keras.Sequential([l0])"
      ],
      "metadata": {
        "id": "RykoR5A4fO0n"
      },
      "execution_count": 20,
      "outputs": []
    },
    {
      "cell_type": "code",
      "source": [
        "model.compile(loss='mean_squared_error', optimizer=tf.keras.optimizers.Adam(0.1))"
      ],
      "metadata": {
        "id": "eWaIcRnkfZJc"
      },
      "execution_count": 21,
      "outputs": []
    },
    {
      "cell_type": "code",
      "source": [
        "history = model.fit(celsius_q, fahrenheit_a, epochs=500, verbose=False)\n",
        "print(\"Finished training\")"
      ],
      "metadata": {
        "colab": {
          "base_uri": "https://localhost:8080/"
        },
        "id": "AYov_haRf2O1",
        "outputId": "ceee5af6-d7cf-4723-a2bb-29eb304eddb8"
      },
      "execution_count": 23,
      "outputs": [
        {
          "output_type": "stream",
          "name": "stdout",
          "text": [
            "Finished training\n"
          ]
        }
      ]
    },
    {
      "cell_type": "code",
      "source": [
        "import matplotlib.pyplot as plt\n",
        "plt.xlabel('Epoch Number')\n",
        "plt.ylabel('Loss Magnitude')\n",
        "plt.plot(history.history['loss'])"
      ],
      "metadata": {
        "colab": {
          "base_uri": "https://localhost:8080/",
          "height": 296
        },
        "id": "V3G7wgWrgONW",
        "outputId": "b973a9a3-5909-4b7a-e417-961c00d96814"
      },
      "execution_count": 24,
      "outputs": [
        {
          "output_type": "execute_result",
          "data": {
            "text/plain": [
              "[<matplotlib.lines.Line2D at 0x7f9a9d152490>]"
            ]
          },
          "metadata": {},
          "execution_count": 24
        },
        {
          "output_type": "display_data",
          "data": {
            "text/plain": [
              "<Figure size 432x288 with 1 Axes>"
            ],
            "image/png": "[encoded data removed]"
          },
          "metadata": {
            "needs_background": "light"
          }
        }
      ]
    },
    {
      "cell_type": "code",
      "source": [
        "print(model.predict([100]))"
      ],
      "metadata": {
        "colab": {
          "base_uri": "https://localhost:8080/"
        },
        "id": "PRCYJxcXgnBD",
        "outputId": "a6a5aaa8-324a-4060-a259-490605d10247"
      },
      "execution_count": 26,
      "outputs": [
        {
          "output_type": "stream",
          "name": "stdout",
          "text": [
            "[[211.33028]]\n"
          ]
        }
      ]
    },
    {
      "cell_type": "code",
      "source": [
        "print(\"These are the layer variables: {}\".format(l0.get_weights()))"
      ],
      "metadata": {
        "colab": {
          "base_uri": "https://localhost:8080/"
        },
        "id": "dt1tou-PgyTw",
        "outputId": "ed707167-5f34-4100-c82f-edc35bc1b129"
      },
      "execution_count": 27,
      "outputs": [
        {
          "output_type": "stream",
          "name": "stdout",
          "text": [
            "These are the layer variables: [array([[1.8216796]], dtype=float32), array([29.162327], dtype=float32)]\n"
          ]
        }
      ]
    },
    {
      "cell_type": "markdown",
      "source": [
        "##Little experiment"
      ],
      "metadata": {
        "id": "hE7ys7POhOAZ"
      }
    },
    {
      "cell_type": "code",
      "source": [
        "from inspect import CO_ITERABLE_COROUTINE\n",
        "l0= tf.keras.layers.Dense(units=4, input_shape=[1])\n",
        "l1= tf.keras.layers.Dense(units=4)\n",
        "l2= tf.keras.layers.Dense(units=1)\n",
        "model = tf.keras.Sequential([l0,l1,l2])\n",
        "\n",
        "model.compile(loss='mean_squared_error', optimizer=tf.keras.optimizers.Adam(0.1))\n",
        "model.fit(celsius_q, fahrenheit_a, epochs=500, verbose=False)"
      ],
      "metadata": {
        "colab": {
          "base_uri": "https://localhost:8080/"
        },
        "id": "3jWVElMXhGkZ",
        "outputId": "d8bbdf12-5ea8-4e8b-d111-8405ed2a4637"
      },
      "execution_count": 29,
      "outputs": [
        {
          "output_type": "execute_result",
          "data": {
            "text/plain": [
              "<keras.callbacks.History at 0x7f9a9a7e7a50>"
            ]
          },
          "metadata": {},
          "execution_count": 29
        }
      ]
    },
    {
      "cell_type": "code",
      "source": [
        "print(model.predict([100.0]))\n",
        "\n",
        "print(\"Model predicts that 100 degrees Celsius is {} degrees Fahrenheit\".format(model.predict([100])))"
      ],
      "metadata": {
        "colab": {
          "base_uri": "https://localhost:8080/"
        },
        "id": "FB1bewvGiLsa",
        "outputId": "2230219d-1af9-4b58-bf0a-bb802ee1aca1"
      },
      "execution_count": 30,
      "outputs": [
        {
          "output_type": "stream",
          "name": "stdout",
          "text": [
            "[[211.74745]]\n",
            "Model predicts that 100 degrees Celsius is [[211.74745]] degrees Fahrenheit\n"
          ]
        }
      ]
    },
    {
      "cell_type": "code",
      "source": [
        "for i in range(3):\n",
        "  l = [l0,l1,l2]\n",
        "  print(\"These are the l{} variables: {}\".format(i, l[i].get_weights()))"
      ],
      "metadata": {
        "colab": {
          "base_uri": "https://localhost:8080/"
        },
        "id": "O6zEWcIhipV5",
        "outputId": "2fc72c63-7a07-46b5-d48e-666cab52a69e"
      },
      "execution_count": 32,
      "outputs": [
        {
          "output_type": "stream",
          "name": "stdout",
          "text": [
            "These are the l0 variables: [array([[-0.10247028, -0.02121031, -0.357914  , -0.5654979 ]],\n",
            "      dtype=float32), array([ 2.5271814,  2.610726 , -2.881443 , -2.8166394], dtype=float32)]\n",
            "These are the l1 variables: [array([[ 0.3160769 ,  1.1362678 , -0.35961857,  0.2588974 ],\n",
            "       [ 0.21865797,  0.5034428 , -0.47206092,  0.8458436 ],\n",
            "       [ 0.5133486 , -0.5054418 ,  0.6471957 , -1.0589815 ],\n",
            "       [-0.19353424, -0.8875987 , -0.34706604, -0.9258356 ]],\n",
            "      dtype=float32), array([-2.5618608,  2.90168  , -0.9807379,  2.9011185], dtype=float32)]\n",
            "These are the l2 variables: [array([[-0.57061434],\n",
            "       [ 1.1732272 ],\n",
            "       [-0.12846604],\n",
            "       [ 1.263133  ]], dtype=float32), array([2.8384955], dtype=float32)]\n"
          ]
        }
      ]
    },
    {
      "cell_type": "code",
      "source": [
        ""
      ],
      "metadata": {
        "id": "5d-RlQQSjbo2"
      },
      "execution_count": null,
      "outputs": []
    }
  ]
}